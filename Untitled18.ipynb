{
  "nbformat": 4,
  "nbformat_minor": 0,
  "metadata": {
    "colab": {
      "provenance": []
    },
    "kernelspec": {
      "name": "python3",
      "display_name": "Python 3"
    },
    "language_info": {
      "name": "python"
    }
  },
  "cells": [
    {
      "cell_type": "code",
      "execution_count": 1,
      "metadata": {
        "colab": {
          "base_uri": "https://localhost:8080/"
        },
        "id": "c27-u0oXT5l2",
        "outputId": "eb1fcd5e-a355-4e98-cc75-29d41bce2927"
      },
      "outputs": [
        {
          "output_type": "stream",
          "name": "stdout",
          "text": [
            "Requirement already satisfied: requests in /usr/local/lib/python3.10/dist-packages (2.27.1)\n",
            "Requirement already satisfied: beautifulsoup4 in /usr/local/lib/python3.10/dist-packages (4.11.2)\n",
            "Requirement already satisfied: urllib3<1.27,>=1.21.1 in /usr/local/lib/python3.10/dist-packages (from requests) (1.26.16)\n",
            "Requirement already satisfied: certifi>=2017.4.17 in /usr/local/lib/python3.10/dist-packages (from requests) (2023.5.7)\n",
            "Requirement already satisfied: charset-normalizer~=2.0.0 in /usr/local/lib/python3.10/dist-packages (from requests) (2.0.12)\n",
            "Requirement already satisfied: idna<4,>=2.5 in /usr/local/lib/python3.10/dist-packages (from requests) (3.4)\n",
            "Requirement already satisfied: soupsieve>1.2 in /usr/local/lib/python3.10/dist-packages (from beautifulsoup4) (2.4.1)\n"
          ]
        }
      ],
      "source": [
        "!pip install requests beautifulsoup4"
      ]
    },
    {
      "cell_type": "code",
      "source": [
        "import requests\n",
        "from bs4 import BeautifulSoup #Import required libraries and read the URL"
      ],
      "metadata": {
        "id": "g1XoS-zHUDa7"
      },
      "execution_count": 5,
      "outputs": []
    },
    {
      "cell_type": "code",
      "source": [
        "# Add the url\n",
        "url = 'https://www.flipkart.com/search?q=mobile+phone+5g'\n",
        "\n",
        "# Make a request to the website\n",
        "response = requests.get(url)\n",
        "\n",
        "# Create a BeautifulSoup object\n",
        "soup = BeautifulSoup(response.text, 'html.parser')"
      ],
      "metadata": {
        "id": "SzkmWCgWULhP"
      },
      "execution_count": 4,
      "outputs": []
    },
    {
      "cell_type": "code",
      "source": [
        "text = soup.get_text() #to obtain and print all the scraped data\n",
        "text"
      ],
      "metadata": {
        "colab": {
          "base_uri": "https://localhost:8080/",
          "height": 140
        },
        "id": "svJOTslfUaJJ",
        "outputId": "ed43b549-418a-42a5-bccc-3141065772b5"
      },
      "execution_count": 6,
      "outputs": [
        {
          "output_type": "execute_result",
          "data": {
            "text/plain": [
              "' Mobile Phone 5g- Buy Products Online at Best Price in India - All Categories | Flipkart.com     Explore PlusLoginBecome a Seller More CartFiltersCATEGORIESMobiles & AccessoriesMobilesPrice......Min₹10000₹15000₹20000₹30000to₹10000₹15000₹20000₹30000₹30000+BrandSAMSUNGAPPLErealmePOCOInfinixOPPO127 MORE?Customer Ratings4★ & above3★ & aboveGST Invoice AvailableRAM4 GB3 GB2 GB1GB and Below8 GB and Above6 GBInternal StorageBattery CapacityScreen SizePrimary CameraSecondary CameraProcessor BrandSpecialityResolution TypeOperating SystemNetwork TypeSim TypeOffersBuy More, Save MoreNo Cost EMISpecial PriceFeaturesTypeNumber of CoresAvailabilityDiscount50% or more40% or more30% or more20% or more10% or moreOperating System Version NameClock SpeedNeed help?Help me decideHomeMobiles & AccessoriesMobilesShowing 1 – 24 of 4,468 results for \"mobile phone 5g\"Sort ByRelevancePopularityPrice -- Low to HighPrice -- High to LowNewest FirstAdd to Comparevivo T2x 5G (Aurora Gold, 128 GB)4.454,140 Ratings\\xa0&\\xa02,903 Reviews6 GB RAM | 128 GB ROM16.71 cm (6.58 inch) Full HD+ Display50MP + 2MP | 8MP Front Camera5000 mAh BatteryDimensity 6020 Processor1 Year of Device & 6 Months for Inbox Accessories₹13,999₹18,99926% offFree delivery by TodayUpto ₹13,300 Off on ExchangeBank OfferAdd to ComparePOCO M4 5G (Cool Blue, 64 GB)4.281,221 Ratings\\xa0&\\xa05,689 Reviews4 GB RAM | 64 GB ROM | Expandable Upto 512 GB16.71 cm (6.58 inch) Full HD+ Display50MP + 2MP | 8MP Front Camera5000 mAh Lithium Ion Polymer BatteryMediatek Dimensity 700 Processor1 Year Warranty for Handset and 6 Months for Accessories₹12,999₹15,99918% offFree delivery by TodayUpto ₹11,900 Off on ExchangeBank OfferAdd to ComparePOCO M4 5G (Power Black, 64 GB)4.281,221 Ratings\\xa0&\\xa05,689 Reviews4 GB RAM | 64 GB ROM | Expandable Upto 512 GB16.71 cm (6.58 inch) Full HD+ Display50MP + 2MP | 8MP Front Camera5000 mAh Lithium Ion Polymer BatteryMediatek Dimensity 700 Processor1 Year Warranty for Handset and 6 Months for Accessories₹12,999₹15,99918% offFree delivery by TodayUpto ₹11,900 Off on ExchangeBank OfferAdd to Comparevivo T2x 5G (Glimmer Black, 128 GB)4.313,891 Ratings\\xa0&\\xa0775 Reviews8 GB RAM | 128 GB ROM16.71 cm (6.58 inch) Full HD+ Display50MP + 2MP | 8MP Front Camera5000 mAh BatteryDimensity 6020 Processor1 Year of Device & 6 Months for Inbox Accessories₹15,999₹20,99923% offFree delivery by TodayUpto ₹15,150 Off on ExchangeBank OfferAdd to ComparePOCO X5 5G (Jaguar Black, 128 GB)4.19,173 Ratings\\xa0&\\xa0705 Reviews6 GB RAM | 128 GB ROM | Expandable Upto 1 TB16.94 cm (6.67 inch) Full HD+ Display48MP + 8MP + 2MP | 13MP Front Camera5000 mAh BatteryQualcomm Snapdragon 695 Processor1 Year Manufacturer Warranty for Phone and 6 Months Warranty for In the Box Accessories₹15,999₹20,99923% offFree delivery by TodayUpto ₹14,500 Off on ExchangeNo Cost EMI from ₹2,667/monthAdd to CompareAPPLE iPhone 13 (Starlight, 128 GB)4.72,29,564 Ratings\\xa0&\\xa011,784 Reviews128 GB ROM15.49 cm (6.1 inch) Super Retina XDR Display12MP + 12MP | 12MP Front CameraA15 Bionic Chip ProcessorBrand Warranty for 1 Year₹60,999₹69,90012% offAdd to CompareAPPLE iPhone 13 (Midnight, 128 GB)4.72,29,564 Ratings\\xa0&\\xa011,784 Reviews128 GB ROM15.49 cm (6.1 inch) Super Retina XDR Display12MP + 12MP | 12MP Front CameraA15 Bionic Chip ProcessorBrand Warranty for 1 Year₹60,999₹69,90012% offAdd to Comparevivo T2 5G (Velocity Wave, 128 GB)4.428,830 Ratings\\xa0&\\xa01,715 Reviews6 GB RAM | 128 GB ROM16.21 cm (6.38 inch) Full HD+ Display64 MP (OIS) + 2MP | 16MP Front Camera4500 mAh BatterySnapdragon 695 Processor1 Year of Device & 6 Months for Inbox Accessories₹18,999₹23,99920% offFree delivery by TodayUpto ₹18,350 Off on ExchangeNo Cost EMI from ₹6,333/monthAdd to ComparePOCO X5 Pro 5G (Horizon Blue, 256 GB)4.38,620 Ratings\\xa0&\\xa0882 Reviews8 GB RAM | 256 GB ROM16.94 cm (6.67 inch) Full HD+ Display108MP + 8MP + 2MP | 16MP Front Camera5000 mAh BatteryQualcomm Snapdragon 778G Processor1 Year Manufacturer Warranty for Phone and 6 Months Warranty for in the Box Accessories₹22,999₹28,99920% offFree delivery by TodayLowest price since launchUpto ₹21,650 Off on ExchangeAdd to ComparePOCO M4 5G (Yellow, 128 GB)4.242,318 Ratings\\xa0&\\xa03,061 Reviews6 GB RAM | 128 GB ROM | Expandable Upto 512 GB16.71 cm (6.58 inch) Full HD+ Display50MP + 2MP | 8MP Front Camera5000 mAh Lithium Ion Polymer BatteryMediatek Dimensity 700 Processor1 Year Warranty for Handset and 6 Months for Accessories₹14,999₹18,99921% offFree delivery by TodayUpto ₹13,700 Off on ExchangeBank OfferAdd to Comparerealme 10 Pro 5G (Hyperspace, 128 GB)4.320,373 Ratings\\xa0&\\xa01,486 Reviews8 GB RAM | 128 GB ROM | Expandable Upto 1 TB17.07 cm (6.72 inch) Full HD+ Display108MP + 2MP | 16MP Front Camera5000 mAh BatteryQualcomm Snapdragon 695 5G Processor1 Year Manufacturer Warranty for Phone and 6 Months Warranty for In-Box Accessories₹19,999₹22,99913% offFree delivery by TodayDaily SaverUpto ₹18,750 Off on ExchangeAdd to Comparerealme 10 Pro 5G (Nebula Blue, 128 GB)4.320,373 Ratings\\xa0&\\xa01,486 Reviews8 GB RAM | 128 GB ROM | Expandable Upto 1 TB17.07 cm (6.72 inch) Full HD+ Display108MP + 2MP | 16MP Front Camera5000 mAh BatteryQualcomm Snapdragon 695 5G Processor1 Year Manufacturer Warranty for Phone and 6 Months Warranty for In-Box Accessories₹19,999₹22,99913% offFree delivery by TodayDaily SaverUpto ₹18,750 Off on ExchangeAdd to CompareAPPLE iPhone 13 (Pink, 128 GB)4.72,29,564 Ratings\\xa0&\\xa011,784 Reviews128 GB ROM15.49 cm (6.1 inch) Super Retina XDR Display12MP + 12MP | 12MP Front CameraA15 Bionic Chip ProcessorBrand Warranty for 1 Year₹60,999₹69,90012% offAdd to Comparerealme GT 2 (Steel Black, 128 GB)4.310,898 Ratings\\xa0&\\xa01,252 Reviews8 GB RAM | 128 GB ROM16.81 cm (6.62 inch) Full HD+ AMOLED Display50MP + 8MP + 2MP | 16MP Front Camera5000 mAh Lithium Ion BatteryQualcomm Snapdragon 888 Processor1 Year Manufacturer Warranty for Phone and 6 Months Warranty for In-Box Accessories₹23,999₹39,99940% offFree delivery by TodayUpto ₹23,200 Off on ExchangeBank OfferAdd to Comparerealme 10 Pro 5G (Hyperspace, 128 GB)4.327,571 Ratings\\xa0&\\xa02,018 Reviews6 GB RAM | 128 GB ROM | Expandable Upto 1 TB17.07 cm (6.72 inch) Full HD+ Display108MP + 2MP | 16MP Front Camera5000 mAh BatteryQualcomm Snapdragon 695 5G Processor1 Year Manufacturer Warranty for Phone and 6 Months Warranty for In-Box Accessories₹18,999₹20,9999% offFree delivery by TodayUpto ₹18,350 Off on ExchangeBank OfferAdd to Comparerealme 10 Pro 5G (Dark Matter, 128 GB)4.327,571 Ratings\\xa0&\\xa02,018 Reviews6 GB RAM | 128 GB ROM | Expandable Upto 1 TB17.07 cm (6.72 inch) Full HD+ Display108MP + 2MP | 16MP Front Camera5000 mAh BatteryQualcomm Snapdragon 695 5G Processor1 Year Manufacturer Warranty for Phone and 6 Months Warranty for In-Box Accessories₹18,999₹20,9999% offFree delivery by TodayUpto ₹18,350 Off on ExchangeBank OfferAdd to CompareSAMSUNG Galaxy F23 5G (Aqua Blue, 128 GB)4.31,96,898 Ratings\\xa0&\\xa015,148 Reviews6 GB RAM | 128 GB ROM | Expandable Upto 1 TB16.76 cm (6.6 inch) Full HD+ Display50MP + 8MP + 2MP | 8MP Front Camera5000 mAh Lithium Ion BatteryQualcomm Snapdragon 750G Processor1 Year Warranty Provided by the Manufacturer from Date of Purchase₹16,999₹23,99929% offFree delivery by TodayUpto ₹16,400 Off on ExchangeNo Cost EMI from ₹2,834/monthAdd to Comparerealme GT 2 (Paper White, 128 GB)4.310,898 Ratings\\xa0&\\xa01,252 Reviews8 GB RAM | 128 GB ROM16.81 cm (6.62 inch) Full HD+ AMOLED Display50MP + 8MP + 2MP | 16MP Front Camera5000 mAh Lithium Ion BatteryQualcomm Snapdragon 888 Processor1 Year Manufacturer Warranty for Phone and 6 Months Warranty for In-Box Accessories₹23,999₹39,99940% offFree delivery by TodayUpto ₹23,200 Off on ExchangeBank OfferAdd to CompareInfinix HOT 20 5G (Space Blue, 64 GB)4.212,333 Ratings\\xa0&\\xa0951 Reviews4 GB RAM | 64 GB ROM | Expandable Upto 1 TB16.76 cm (6.6 inch) Full HD+ Display50MP + AI Lens | 8MP Front Camera5000 mAh Li-ion Polymer BatteryDimensity 810 Processor1 Year on Handset and 6 Months on Accessories₹11,499₹17,99936% offFree delivery by TodayUpto ₹10,900 Off on ExchangeBank OfferAdd to CompareInfinix HOT 20 5G (Blaster Green, 64 GB)4.212,333 Ratings\\xa0&\\xa0951 Reviews4 GB RAM | 64 GB ROM | Expandable Upto 1 TB16.76 cm (6.6 inch) Full HD+ Display50MP + AI Lens | 8MP Front Camera5000 mAh Li-ion Polymer BatteryDimensity 810 Processor1 Year on Handset and 6 Months on Accessories₹11,499₹17,99936% offFree delivery by TodayUpto ₹10,900 Off on ExchangeBank OfferAdd to CompareREDMI Note 12 5G (Mystique Blue, 128 GB)4.22,111 Ratings\\xa0&\\xa0146 Reviews6 GB RAM | 128 GB ROM | Expandable Upto 1 TB16.94 cm (6.67 inch) Full HD+ Display48MP + 8MP + 2MP | 13MP Front Camera5000 mAh BatteryQualcomm Snapdragon 4 Gen 1 Processor1 Year Manufacturer Warranty for Phone and 6 Months Warranty for In the Box Accessories₹18,999₹21,99913% offFree delivery by TodayDaily SaverUpto ₹17,250 Off on ExchangeAdd to ComparePOCO X5 5G (Jaguar Black, 256 GB)4.13,219 Ratings\\xa0&\\xa0253 Reviews8 GB RAM | 256 GB ROM | Expandable Upto 1 TB16.94 cm (6.67 inch) Full HD+ Display48MP + 8MP + 2MP | 13MP Front Camera5000 mAh BatteryQualcomm Snapdragon 695 Processor1 Year Manufacturer Warranty for Phone and 6 Months Warranty for In the Box Accessories₹17,999₹23,99925% offFree delivery by TodayUpto ₹16,750 Off on ExchangeNo Cost EMI from ₹3,000/monthAdd to CompareSAMSUNG Galaxy F14 5G (B.A.E. Purple, 128 GB)4.27,484 Ratings\\xa0&\\xa0584 Reviews4 GB RAM | 128 GB ROM | Expandable Upto 1 TB16.76 cm (6.6 inch) Full HD+ Display50MP + 2MP | 13MP Front Camera6000 mAh BatteryExynos 1330, Octa Core Processor1 Year Manufacturer Warranty for Device and 6 Months Manufacturer Warranty for In-Box Accessories₹13,990₹17,49020% offFree delivery by TodayUpto ₹13,300 Off on ExchangeNo Cost EMI from ₹1,555/monthAdd to CompareREDMI Note 12 5G (Matte Black, 128 GB)4.22,111 Ratings\\xa0&\\xa0146 Reviews6 GB RAM | 128 GB ROM | Expandable Upto 1 TB16.94 cm (6.67 inch) Full HD+ Display48MP + 8MP + 2MP | 13MP Front Camera5000 mAh BatteryQualcomm Snapdragon 4 Gen 1 Processor1 Year Manufacturer Warranty for Phone and 6 Months Warranty for In the Box Accessories₹18,999₹21,99913% offFree delivery by TodayDaily SaverUpto ₹17,250 Off on ExchangePage 1 of 18712345678910NextDid you find what you were looking for?YesNoReviews for Popular Mobiles1. POCO M4 5G (Yellow, 128 GB)4.242,318 Ratings&3,061 Reviews₹14,99921% off6 GB RAM | 128 GB ROM | Expandable Upto 512 GB16.71 cm (6.58 inch) Full HD+ Display50MP + 2MP | 8MP Front CameraMost Helpful Review4DelightfulNice Phone value of money 💰 smooth performance Good battery backup,good camera 📷 quality, fast charging type c cable Overall nice Phone..Read full reviewSeeta shuklaCertified Buyer10 months agoRecent Review4Pretty goodPerformance satisfactorily working.Read full reviewGowri Shankar R CCertified Buyer1 day ago2. vivo T2x 5G (Aurora Gold, 1...4.454,140 Ratings&2,903 Reviews₹13,99926% off6 GB RAM | 128 GB ROM16.71 cm (6.58 inch) Full HD+ Display50MP + 2MP | 8MP Front CameraMost Helpful Review4DelightfulGot this phone today. Great design, camera is good , performance is good battery is great if you want this for day to day life use than go for it You can ga...Read full reviewPremraj Prajapat Certified Buyer2 months agoRecent Review5Just wow!Best 5g phone in budget with very good camera quality and lot of feature.👍👍👍Read full reviewVipin Kumar SarafCertified Buyer1 day ago3. SAMSUNG Galaxy F14 5G (B.A....4.27,484 Ratings&584 Reviews₹13,99020% off4 GB RAM | 128 GB ROM | Expandable Upto 1 TB16.76 cm (6.6 inch) Full HD+ Display50MP + 2MP | 13MP Front CameraMost Helpful Review2Could be way betterMajor cost cutting done in it no protective cover no charger no protective flim cost cutting is good but when ever you launch new phone protective cover shou...Read full reviewFlipkart CustomerCertified Buyer2 months agoRecent Review5Best in the market!Nice phone under budget. Overall good phone.Read full reviewHELPERCertified Buyer1 day ago4. POCO X5 5G (Jaguar Black, 1...4.19,173 Ratings&705 Reviews₹15,99923% off6 GB RAM | 128 GB ROM | Expandable Upto 1 TB16.94 cm (6.67 inch) Full HD+ Display48MP + 8MP + 2MP | 13MP Front CameraMost Helpful Review2Could be way betterFirst we\\'ll discuss the pros.1. Decent battery can easily last a day even with 120 hz setting with medium high brightness.2. Flawless touch and display, gr...Read full reviewAyush SinghCertified Buyer3 months agoRecent Review2Could be way betterBattery drained fast, camera quality not good blur images dot on photosRead full reviewMahesh AnandkarCertified Buyer2 days ago5. vivo T2 5G (Velocity Wave, ...4.428,830 Ratings&1,715 Reviews₹18,99920% off6 GB RAM | 128 GB ROM16.21 cm (6.38 inch) Full HD+ Display64 MP (OIS) + 2MP | 16MP Front CameraMost Helpful Review5Highly recommendedBest 5g phone under 20k Camera quality is outstanding 🤩If you are looking for a 5g phone under 20k then go for it worth every penny #turboRead full reviewPallawy SinghCertified Buyer2 months agoRecent Review4Worth the moneyCamera not meet expectations as vivo phone.. overall a good packageRead full reviewSarfaraz KhanCertified Buyer2 days agoABOUTContact UsAbout UsCareersFlipkart StoriesPressFlipkart WholesaleCorporate InformationHELPPaymentsShippingCancellation & ReturnsFAQReport InfringementCONSUMER POLICYReturn PolicyTerms Of UseSecurityPrivacySitemapGrievance RedressalEPR ComplianceSOCIALFacebookTwitterYouTubeMail Us:Flipkart Internet Private Limited, \\n Buildings Alyssa, Begonia & \\n Clove Embassy Tech Village, \\n Outer Ring Road, Devarabeesanahalli Village, \\n Bengaluru, 560103, \\n Karnataka, India\\nRegistered Office Address:Flipkart Internet Private Limited, \\n Buildings Alyssa, Begonia & \\n Clove Embassy Tech Village, \\n Outer Ring Road, Devarabeesanahalli Village, \\n Bengaluru, 560103, \\n Karnataka, India \\n CIN : U51109KA2012PTC066107 \\n Telephone: 044-45614700\\nBecome a SellerAdvertiseGift CardsHelp Center© 2007-2023 Flipkart.comBack to top   \\n \\n\\n  '"
            ],
            "application/vnd.google.colaboratory.intrinsic+json": {
              "type": "string"
            }
          },
          "metadata": {},
          "execution_count": 6
        }
      ]
    },
    {
      "cell_type": "markdown",
      "source": [
        "Use Command+F (MAC) or Ctrl+F (Windows)\n",
        "\n",
        "And type 1st device name that you find on flipkart url.\n",
        "\n",
        "Search in the above scraped data.\n",
        "\n",
        "We will use very basic NLP techniques to filter out useful information from raw data:\n",
        "Give a start word and a end word.\n",
        "\n",
        "Find that start and end words in the above text.\n",
        "\n",
        "Filter in data written between start and end words."
      ],
      "metadata": {
        "id": "B3Wpcr10WSoe"
      }
    },
    {
      "cell_type": "code",
      "source": [
        "start_word = \"Add to Compare\"\n",
        "end_word = \"(\"\n",
        "start_index = text.find(start_word)\n",
        "end_index = text.find(end_word, start_index + len(start_word))\n",
        "name = ''\n",
        "if start_index != -1 and end_index != -1:\n",
        "    name = text[start_index + len(start_word):end_index].strip() #The strip() method removes any leading, and trailing whitespaces.\n",
        "\n",
        "print(name)"
      ],
      "metadata": {
        "colab": {
          "base_uri": "https://localhost:8080/"
        },
        "id": "GF9UEgxdU7X3",
        "outputId": "216233d3-509b-4341-88b5-5994348d2df6"
      },
      "execution_count": 7,
      "outputs": [
        {
          "output_type": "stream",
          "name": "stdout",
          "text": [
            "vivo T2x 5G\n"
          ]
        }
      ]
    },
    {
      "cell_type": "markdown",
      "source": [
        "Single Device RAM and ROM"
      ],
      "metadata": {
        "id": "egd2RiGlaScm"
      }
    },
    {
      "cell_type": "code",
      "source": [
        "start_word = \"Reviews\"\n",
        "end_word = \"ROM\"\n",
        "start_index = text.find(start_word)\n",
        "end_index = text.find(end_word, start_index + len(start_word))\n",
        "RAM_ROM = ''\n",
        "if start_index != -1 and end_index != -1:\n",
        "    RAM_ROM = text[start_index + len(start_word):end_index].strip()\n",
        "\n",
        "print(RAM_ROM)\n"
      ],
      "metadata": {
        "colab": {
          "base_uri": "https://localhost:8080/"
        },
        "id": "Cl4tnQ5YXcQD",
        "outputId": "3c608602-2c01-4ffd-ad61-fedeeabc8d64"
      },
      "execution_count": 8,
      "outputs": [
        {
          "output_type": "stream",
          "name": "stdout",
          "text": [
            "6 GB RAM | 128 GB\n"
          ]
        }
      ]
    },
    {
      "cell_type": "markdown",
      "source": [
        "Single Device Rating and Sold"
      ],
      "metadata": {
        "id": "Q8d09il7aqXY"
      }
    },
    {
      "cell_type": "code",
      "source": [
        "start_word = \"GB)\"\n",
        "end_word = \"Ratings\"\n",
        "start_index = text.find(start_word)\n",
        "end_index = text.find(end_word, start_index + len(start_word))\n",
        "Rating_Sold = ''\n",
        "if start_index != -1 and end_index != -1:\n",
        "    Rating_Sold = text[start_index + len(start_word):end_index].strip()\n",
        "\n",
        "print(Rating_Sold)\n"
      ],
      "metadata": {
        "id": "EeA_qPz8anfM"
      },
      "execution_count": null,
      "outputs": []
    },
    {
      "cell_type": "markdown",
      "source": [
        "Mobile Names:\n",
        "Add a for loop to filter all mobile names."
      ],
      "metadata": {
        "id": "xxobzbgUa5s7"
      }
    },
    {
      "cell_type": "code",
      "source": [
        "import re #regular exp\n",
        "\n",
        "start_word = \"Add to Compare\"\n",
        "end_word = \"(\"\n",
        "\n",
        "escaped_start_word = re.escape(start_word)\n",
        "escaped_end_word = re.escape(end_word)\n",
        "\n",
        "pattern = f\"{escaped_start_word}(.*?){escaped_end_word}\"\n",
        "matches = re.finditer(pattern, text)\n",
        "name = []\n",
        "\n",
        "for match in matches:\n",
        "    project = match.group(1).strip()\n",
        "    name.append(project)\n",
        "\n",
        "print(name)\n"
      ],
      "metadata": {
        "colab": {
          "base_uri": "https://localhost:8080/"
        },
        "id": "Bj1B6DiAbCkb",
        "outputId": "bb58bd7c-2cf1-462d-be52-bacef69700a5"
      },
      "execution_count": 9,
      "outputs": [
        {
          "output_type": "stream",
          "name": "stdout",
          "text": [
            "['vivo T2x 5G', 'POCO M4 5G', 'POCO M4 5G', 'vivo T2x 5G', 'POCO X5 5G', 'APPLE iPhone 13', 'APPLE iPhone 13', 'vivo T2 5G', 'POCO X5 Pro 5G', 'POCO M4 5G', 'realme 10 Pro 5G', 'realme 10 Pro 5G', 'APPLE iPhone 13', 'realme GT 2', 'realme 10 Pro 5G', 'realme 10 Pro 5G', 'SAMSUNG Galaxy F23 5G', 'realme GT 2', 'Infinix HOT 20 5G', 'Infinix HOT 20 5G', 'REDMI Note 12 5G', 'POCO X5 5G', 'SAMSUNG Galaxy F14 5G', 'REDMI Note 12 5G']\n"
          ]
        }
      ]
    },
    {
      "cell_type": "code",
      "source": [
        "name"
      ],
      "metadata": {
        "colab": {
          "base_uri": "https://localhost:8080/"
        },
        "id": "1nodpYs0cuUm",
        "outputId": "d0549450-9a0c-4ee6-901a-75cf21cb3454"
      },
      "execution_count": 10,
      "outputs": [
        {
          "output_type": "execute_result",
          "data": {
            "text/plain": [
              "['vivo T2x 5G',\n",
              " 'POCO M4 5G',\n",
              " 'POCO M4 5G',\n",
              " 'vivo T2x 5G',\n",
              " 'POCO X5 5G',\n",
              " 'APPLE iPhone 13',\n",
              " 'APPLE iPhone 13',\n",
              " 'vivo T2 5G',\n",
              " 'POCO X5 Pro 5G',\n",
              " 'POCO M4 5G',\n",
              " 'realme 10 Pro 5G',\n",
              " 'realme 10 Pro 5G',\n",
              " 'APPLE iPhone 13',\n",
              " 'realme GT 2',\n",
              " 'realme 10 Pro 5G',\n",
              " 'realme 10 Pro 5G',\n",
              " 'SAMSUNG Galaxy F23 5G',\n",
              " 'realme GT 2',\n",
              " 'Infinix HOT 20 5G',\n",
              " 'Infinix HOT 20 5G',\n",
              " 'REDMI Note 12 5G',\n",
              " 'POCO X5 5G',\n",
              " 'SAMSUNG Galaxy F14 5G',\n",
              " 'REDMI Note 12 5G']"
            ]
          },
          "metadata": {},
          "execution_count": 10
        }
      ]
    },
    {
      "cell_type": "markdown",
      "source": [
        "ram & rom"
      ],
      "metadata": {
        "id": "mlHM2VWTgUPd"
      }
    },
    {
      "cell_type": "code",
      "source": [
        "import re\n",
        "\n",
        "start_word = \"Reviews\"\n",
        "end_word = \"ROM\"\n",
        "\n",
        "escaped_start_word = re.escape(start_word)\n",
        "escaped_end_word = re.escape(end_word)\n",
        "\n",
        "pattern = f\"{escaped_start_word}(.*?){escaped_end_word}\"\n",
        "matches = re.finditer(pattern, text)\n",
        "RAM_ROM = []\n",
        "\n",
        "for match in matches:\n",
        "    project = match.group(1).strip()\n",
        "    RAM_ROM.append(project)\n",
        "\n",
        "print(RAM_ROM)\n"
      ],
      "metadata": {
        "colab": {
          "base_uri": "https://localhost:8080/"
        },
        "id": "x0ta3Xe5gOWn",
        "outputId": "0ee16cb7-4aff-447b-cb5f-2fdf03d27d2b"
      },
      "execution_count": 11,
      "outputs": [
        {
          "output_type": "stream",
          "name": "stdout",
          "text": [
            "['6 GB RAM | 128 GB', '4 GB RAM | 64 GB', '4 GB RAM | 64 GB', '8 GB RAM | 128 GB', '6 GB RAM | 128 GB', '128 GB', '128 GB', '6 GB RAM | 128 GB', '8 GB RAM | 256 GB', '6 GB RAM | 128 GB', '8 GB RAM | 128 GB', '8 GB RAM | 128 GB', '128 GB', '8 GB RAM | 128 GB', '6 GB RAM | 128 GB', '6 GB RAM | 128 GB', '6 GB RAM | 128 GB', '8 GB RAM | 128 GB', '4 GB RAM | 64 GB', '4 GB RAM | 64 GB', '6 GB RAM | 128 GB', '8 GB RAM | 256 GB', '4 GB RAM | 128 GB', '6 GB RAM | 128 GB', 'for Popular Mobiles1. POCO M4 5G (Yellow, 128 GB)4.242,318 Ratings&3,061 Reviews₹14,99921% off6 GB RAM | 128 GB', '₹13,99926% off6 GB RAM | 128 GB', '₹13,99020% off4 GB RAM | 128 GB', '₹15,99923% off6 GB RAM | 128 GB', '₹18,99920% off6 GB RAM | 128 GB']\n"
          ]
        }
      ]
    },
    {
      "cell_type": "code",
      "source": [
        "RAM_ROM"
      ],
      "metadata": {
        "colab": {
          "base_uri": "https://localhost:8080/"
        },
        "id": "h8-Of31ogRam",
        "outputId": "430edd39-6798-472f-c1e8-17e42dba9f43"
      },
      "execution_count": 12,
      "outputs": [
        {
          "output_type": "execute_result",
          "data": {
            "text/plain": [
              "['6 GB RAM | 128 GB',\n",
              " '4 GB RAM | 64 GB',\n",
              " '4 GB RAM | 64 GB',\n",
              " '8 GB RAM | 128 GB',\n",
              " '6 GB RAM | 128 GB',\n",
              " '128 GB',\n",
              " '128 GB',\n",
              " '6 GB RAM | 128 GB',\n",
              " '8 GB RAM | 256 GB',\n",
              " '6 GB RAM | 128 GB',\n",
              " '8 GB RAM | 128 GB',\n",
              " '8 GB RAM | 128 GB',\n",
              " '128 GB',\n",
              " '8 GB RAM | 128 GB',\n",
              " '6 GB RAM | 128 GB',\n",
              " '6 GB RAM | 128 GB',\n",
              " '6 GB RAM | 128 GB',\n",
              " '8 GB RAM | 128 GB',\n",
              " '4 GB RAM | 64 GB',\n",
              " '4 GB RAM | 64 GB',\n",
              " '6 GB RAM | 128 GB',\n",
              " '8 GB RAM | 256 GB',\n",
              " '4 GB RAM | 128 GB',\n",
              " '6 GB RAM | 128 GB',\n",
              " 'for Popular Mobiles1. POCO M4 5G (Yellow, 128 GB)4.242,318 Ratings&3,061 Reviews₹14,99921% off6 GB RAM | 128 GB',\n",
              " '₹13,99926% off6 GB RAM | 128 GB',\n",
              " '₹13,99020% off4 GB RAM | 128 GB',\n",
              " '₹15,99923% off6 GB RAM | 128 GB',\n",
              " '₹18,99920% off6 GB RAM | 128 GB']"
            ]
          },
          "metadata": {},
          "execution_count": 12
        }
      ]
    },
    {
      "cell_type": "code",
      "source": [
        "new_RAM_ROM = RAM_ROM[:-5]  # Remove the last 5 elements\n",
        "\n",
        "print(new_RAM_ROM)"
      ],
      "metadata": {
        "colab": {
          "base_uri": "https://localhost:8080/"
        },
        "id": "J6QPTr6UhRtg",
        "outputId": "e75a8143-df0f-4023-f12b-0f96b40c2115"
      },
      "execution_count": 14,
      "outputs": [
        {
          "output_type": "stream",
          "name": "stdout",
          "text": [
            "['6 GB RAM | 128 GB', '4 GB RAM | 64 GB', '4 GB RAM | 64 GB', '8 GB RAM | 128 GB', '6 GB RAM | 128 GB', '128 GB', '128 GB', '6 GB RAM | 128 GB', '8 GB RAM | 256 GB', '6 GB RAM | 128 GB', '8 GB RAM | 128 GB', '8 GB RAM | 128 GB', '128 GB', '8 GB RAM | 128 GB', '6 GB RAM | 128 GB', '6 GB RAM | 128 GB', '6 GB RAM | 128 GB', '8 GB RAM | 128 GB', '4 GB RAM | 64 GB', '4 GB RAM | 64 GB', '6 GB RAM | 128 GB', '8 GB RAM | 256 GB', '4 GB RAM | 128 GB', '6 GB RAM | 128 GB']\n"
          ]
        }
      ]
    },
    {
      "cell_type": "code",
      "source": [
        "modified_RAM_ROM = [element if '|' in element else '0 GB RAM | ' + element for element in new_RAM_ROM]\n",
        "\n",
        "print(modified_RAM_ROM)"
      ],
      "metadata": {
        "colab": {
          "base_uri": "https://localhost:8080/"
        },
        "id": "KMPEIR8qgbhc",
        "outputId": "06d3e225-0a55-4fc5-f3af-a928b968eb35"
      },
      "execution_count": 15,
      "outputs": [
        {
          "output_type": "stream",
          "name": "stdout",
          "text": [
            "['6 GB RAM | 128 GB', '4 GB RAM | 64 GB', '4 GB RAM | 64 GB', '8 GB RAM | 128 GB', '6 GB RAM | 128 GB', '0 GB RAM | 128 GB', '0 GB RAM | 128 GB', '6 GB RAM | 128 GB', '8 GB RAM | 256 GB', '6 GB RAM | 128 GB', '8 GB RAM | 128 GB', '8 GB RAM | 128 GB', '0 GB RAM | 128 GB', '8 GB RAM | 128 GB', '6 GB RAM | 128 GB', '6 GB RAM | 128 GB', '6 GB RAM | 128 GB', '8 GB RAM | 128 GB', '4 GB RAM | 64 GB', '4 GB RAM | 64 GB', '6 GB RAM | 128 GB', '8 GB RAM | 256 GB', '4 GB RAM | 128 GB', '6 GB RAM | 128 GB']\n"
          ]
        }
      ]
    },
    {
      "cell_type": "markdown",
      "source": [
        "Split RAM and ROM in 2 differnt sets."
      ],
      "metadata": {
        "id": "f060nSsalbZ6"
      }
    },
    {
      "cell_type": "code",
      "source": [
        "\n",
        "RAM = [element.split(\" | \")[0] for element in modified_RAM_ROM]\n",
        "ROM = [element.split(\" | \")[1] for element in modified_RAM_ROM]\n",
        "\n",
        "print(RAM)\n",
        "print(ROM)"
      ],
      "metadata": {
        "colab": {
          "base_uri": "https://localhost:8080/"
        },
        "id": "OmX2ibUqhFs9",
        "outputId": "fe25cd79-c32c-4afd-bd74-1ff746a5606c"
      },
      "execution_count": 16,
      "outputs": [
        {
          "output_type": "stream",
          "name": "stdout",
          "text": [
            "['6 GB RAM', '4 GB RAM', '4 GB RAM', '8 GB RAM', '6 GB RAM', '0 GB RAM', '0 GB RAM', '6 GB RAM', '8 GB RAM', '6 GB RAM', '8 GB RAM', '8 GB RAM', '0 GB RAM', '8 GB RAM', '6 GB RAM', '6 GB RAM', '6 GB RAM', '8 GB RAM', '4 GB RAM', '4 GB RAM', '6 GB RAM', '8 GB RAM', '4 GB RAM', '6 GB RAM']\n",
            "['128 GB', '64 GB', '64 GB', '128 GB', '128 GB', '128 GB', '128 GB', '128 GB', '256 GB', '128 GB', '128 GB', '128 GB', '128 GB', '128 GB', '128 GB', '128 GB', '128 GB', '128 GB', '64 GB', '64 GB', '128 GB', '256 GB', '128 GB', '128 GB']\n"
          ]
        }
      ]
    },
    {
      "cell_type": "markdown",
      "source": [
        "Keep only numerics in the set."
      ],
      "metadata": {
        "id": "LmQEpFj1lgXe"
      }
    },
    {
      "cell_type": "code",
      "source": [
        "RAM_digit = [re.sub(r'\\D', '', element) for element in RAM]\n",
        "\n",
        "print(RAM_digit)"
      ],
      "metadata": {
        "colab": {
          "base_uri": "https://localhost:8080/"
        },
        "id": "kbqH_u3mld_O",
        "outputId": "d782797c-41a5-4c6d-8245-aac2d1bc9b19"
      },
      "execution_count": 17,
      "outputs": [
        {
          "output_type": "stream",
          "name": "stdout",
          "text": [
            "['6', '4', '4', '8', '6', '0', '0', '6', '8', '6', '8', '8', '0', '8', '6', '6', '6', '8', '4', '4', '6', '8', '4', '6']\n"
          ]
        }
      ]
    },
    {
      "cell_type": "code",
      "source": [
        "ROM_digit = [re.sub(r'\\D', '', element) for element in ROM]\n",
        "\n",
        "print(ROM_digit)"
      ],
      "metadata": {
        "colab": {
          "base_uri": "https://localhost:8080/"
        },
        "id": "gFPkv4nRli0P",
        "outputId": "7e69b220-c8e3-48c6-ea5b-bea007347e53"
      },
      "execution_count": 18,
      "outputs": [
        {
          "output_type": "stream",
          "name": "stdout",
          "text": [
            "['128', '64', '64', '128', '128', '128', '128', '128', '256', '128', '128', '128', '128', '128', '128', '128', '128', '128', '64', '64', '128', '256', '128', '128']\n"
          ]
        }
      ]
    },
    {
      "cell_type": "markdown",
      "source": [
        "Rating and Sold Quantity"
      ],
      "metadata": {
        "id": "MbNDtCr6lndY"
      }
    },
    {
      "cell_type": "code",
      "source": [
        "import re\n",
        "\n",
        "start_word = \"GB)\"\n",
        "end_word = \"Rating\"\n",
        "\n",
        "escaped_start_word = re.escape(start_word)\n",
        "escaped_end_word = re.escape(end_word)\n",
        "\n",
        "pattern = f\"{escaped_start_word}(.*?){escaped_end_word}\"\n",
        "matches = re.finditer(pattern, text)\n",
        "Rating_and_Sold = []\n",
        "\n",
        "for match in matches:\n",
        "    project = match.group(1).strip()\n",
        "    Rating_and_Sold.append(project)\n",
        "\n",
        "print(Rating_and_Sold)\n"
      ],
      "metadata": {
        "colab": {
          "base_uri": "https://localhost:8080/"
        },
        "id": "nR7bAGNclkz_",
        "outputId": "7cce7293-7051-4704-f956-cd19ace496b0"
      },
      "execution_count": 19,
      "outputs": [
        {
          "output_type": "stream",
          "name": "stdout",
          "text": [
            "['4.454,140', '4.281,221', '4.281,221', '4.313,891', '4.19,173', '4.72,29,564', '4.72,29,564', '4.428,830', '4.38,620', '4.242,318', '4.320,373', '4.320,373', '4.72,29,564', '4.310,898', '4.327,571', '4.327,571', '4.31,96,898', '4.310,898', '4.212,333', '4.212,333', '4.22,111', '4.13,219', '4.27,484', '4.22,111', '4.242,318']\n"
          ]
        }
      ]
    },
    {
      "cell_type": "code",
      "source": [
        "Rating_and_Sold"
      ],
      "metadata": {
        "colab": {
          "base_uri": "https://localhost:8080/"
        },
        "id": "zWDfkIOGlp4p",
        "outputId": "15cde7b3-21aa-456c-f379-13ff92d475ca"
      },
      "execution_count": 20,
      "outputs": [
        {
          "output_type": "execute_result",
          "data": {
            "text/plain": [
              "['4.454,140',\n",
              " '4.281,221',\n",
              " '4.281,221',\n",
              " '4.313,891',\n",
              " '4.19,173',\n",
              " '4.72,29,564',\n",
              " '4.72,29,564',\n",
              " '4.428,830',\n",
              " '4.38,620',\n",
              " '4.242,318',\n",
              " '4.320,373',\n",
              " '4.320,373',\n",
              " '4.72,29,564',\n",
              " '4.310,898',\n",
              " '4.327,571',\n",
              " '4.327,571',\n",
              " '4.31,96,898',\n",
              " '4.310,898',\n",
              " '4.212,333',\n",
              " '4.212,333',\n",
              " '4.22,111',\n",
              " '4.13,219',\n",
              " '4.27,484',\n",
              " '4.22,111',\n",
              " '4.242,318']"
            ]
          },
          "metadata": {},
          "execution_count": 20
        }
      ]
    },
    {
      "cell_type": "markdown",
      "source": [
        "Spliting into 2 sets based on selecting first 3 elements."
      ],
      "metadata": {
        "id": "Z_oLPw3slvz6"
      }
    },
    {
      "cell_type": "code",
      "source": [
        "# Splitting into two sets\n",
        "Rating = [element[:3] for element in Rating_and_Sold]\n",
        "Sold = [element[3:] for element in Rating_and_Sold]\n",
        "\n",
        "print(Rating)\n",
        "print(Sold)"
      ],
      "metadata": {
        "colab": {
          "base_uri": "https://localhost:8080/"
        },
        "id": "K5aT_Hj4lr9F",
        "outputId": "a1c0df16-446e-4c11-c1bc-2b3392bfd5c5"
      },
      "execution_count": 21,
      "outputs": [
        {
          "output_type": "stream",
          "name": "stdout",
          "text": [
            "['4.4', '4.2', '4.2', '4.3', '4.1', '4.7', '4.7', '4.4', '4.3', '4.2', '4.3', '4.3', '4.7', '4.3', '4.3', '4.3', '4.3', '4.3', '4.2', '4.2', '4.2', '4.1', '4.2', '4.2', '4.2']\n",
            "['54,140', '81,221', '81,221', '13,891', '9,173', '2,29,564', '2,29,564', '28,830', '8,620', '42,318', '20,373', '20,373', '2,29,564', '10,898', '27,571', '27,571', '1,96,898', '10,898', '12,333', '12,333', '2,111', '3,219', '7,484', '2,111', '42,318']\n"
          ]
        }
      ]
    },
    {
      "cell_type": "code",
      "source": [
        "Rating"
      ],
      "metadata": {
        "colab": {
          "base_uri": "https://localhost:8080/"
        },
        "id": "4qKQUBwtlyJq",
        "outputId": "ef73684a-c6e5-49eb-ed52-285e7b81144a"
      },
      "execution_count": 22,
      "outputs": [
        {
          "output_type": "execute_result",
          "data": {
            "text/plain": [
              "['4.4',\n",
              " '4.2',\n",
              " '4.2',\n",
              " '4.3',\n",
              " '4.1',\n",
              " '4.7',\n",
              " '4.7',\n",
              " '4.4',\n",
              " '4.3',\n",
              " '4.2',\n",
              " '4.3',\n",
              " '4.3',\n",
              " '4.7',\n",
              " '4.3',\n",
              " '4.3',\n",
              " '4.3',\n",
              " '4.3',\n",
              " '4.3',\n",
              " '4.2',\n",
              " '4.2',\n",
              " '4.2',\n",
              " '4.1',\n",
              " '4.2',\n",
              " '4.2',\n",
              " '4.2']"
            ]
          },
          "metadata": {},
          "execution_count": 22
        }
      ]
    },
    {
      "cell_type": "code",
      "source": [
        "Sold"
      ],
      "metadata": {
        "colab": {
          "base_uri": "https://localhost:8080/"
        },
        "id": "__BjhzhlmAr-",
        "outputId": "e9fb598e-cb2b-467c-c616-9531d1f270f3"
      },
      "execution_count": 23,
      "outputs": [
        {
          "output_type": "execute_result",
          "data": {
            "text/plain": [
              "['54,140',\n",
              " '81,221',\n",
              " '81,221',\n",
              " '13,891',\n",
              " '9,173',\n",
              " '2,29,564',\n",
              " '2,29,564',\n",
              " '28,830',\n",
              " '8,620',\n",
              " '42,318',\n",
              " '20,373',\n",
              " '20,373',\n",
              " '2,29,564',\n",
              " '10,898',\n",
              " '27,571',\n",
              " '27,571',\n",
              " '1,96,898',\n",
              " '10,898',\n",
              " '12,333',\n",
              " '12,333',\n",
              " '2,111',\n",
              " '3,219',\n",
              " '7,484',\n",
              " '2,111',\n",
              " '42,318']"
            ]
          },
          "metadata": {},
          "execution_count": 23
        }
      ]
    },
    {
      "cell_type": "markdown",
      "source": [
        "Removing all commas"
      ],
      "metadata": {
        "id": "8tDt2qcJmHuk"
      }
    },
    {
      "cell_type": "code",
      "source": [
        "# Remove commas from the elements\n",
        "Sold_Data = [element.replace(',', '') for element in Sold]\n",
        "\n",
        "print(Sold_Data)"
      ],
      "metadata": {
        "colab": {
          "base_uri": "https://localhost:8080/"
        },
        "id": "H46FmRB_mENg",
        "outputId": "99ef5c00-966d-4608-b5cf-ce055b82e2a4"
      },
      "execution_count": 24,
      "outputs": [
        {
          "output_type": "stream",
          "name": "stdout",
          "text": [
            "['54140', '81221', '81221', '13891', '9173', '229564', '229564', '28830', '8620', '42318', '20373', '20373', '229564', '10898', '27571', '27571', '196898', '10898', '12333', '12333', '2111', '3219', '7484', '2111', '42318']\n"
          ]
        }
      ]
    },
    {
      "cell_type": "code",
      "source": [
        "Sold_Data\n"
      ],
      "metadata": {
        "colab": {
          "base_uri": "https://localhost:8080/"
        },
        "id": "oHdKYeVAmKgn",
        "outputId": "5b1fb36a-3185-40e9-c5db-6ac1a4e1e930"
      },
      "execution_count": 25,
      "outputs": [
        {
          "output_type": "execute_result",
          "data": {
            "text/plain": [
              "['54140',\n",
              " '81221',\n",
              " '81221',\n",
              " '13891',\n",
              " '9173',\n",
              " '229564',\n",
              " '229564',\n",
              " '28830',\n",
              " '8620',\n",
              " '42318',\n",
              " '20373',\n",
              " '20373',\n",
              " '229564',\n",
              " '10898',\n",
              " '27571',\n",
              " '27571',\n",
              " '196898',\n",
              " '10898',\n",
              " '12333',\n",
              " '12333',\n",
              " '2111',\n",
              " '3219',\n",
              " '7484',\n",
              " '2111',\n",
              " '42318']"
            ]
          },
          "metadata": {},
          "execution_count": 25
        }
      ]
    },
    {
      "cell_type": "markdown",
      "source": [
        "Exporting the final CSV"
      ],
      "metadata": {
        "id": "xnOxwErOmQIj"
      }
    },
    {
      "cell_type": "code",
      "source": [
        "import csv"
      ],
      "metadata": {
        "id": "Mp-JksV0mNH-"
      },
      "execution_count": 26,
      "outputs": []
    },
    {
      "cell_type": "code",
      "source": [
        "data = zip(name ,RAM_digit, ROM_digit, Sold_Data, Rating)\n",
        "\n",
        "filename = 'merged_data.csv'\n",
        "\n",
        "with open(filename, 'w', newline='') as csvfile:\n",
        "    writer = csv.writer(csvfile)\n",
        "    writer.writerow(['Name', 'RAM', 'ROM', 'Sold Quantity', 'Rating'])  # Write header row\n",
        "    writer.writerows(data)\n",
        "\n",
        "print(f\"Data has been written to {filename}.\")"
      ],
      "metadata": {
        "colab": {
          "base_uri": "https://localhost:8080/"
        },
        "id": "vahnvVNfmTNh",
        "outputId": "f5780c89-94e1-4136-9f31-b1b1093f861e"
      },
      "execution_count": 27,
      "outputs": [
        {
          "output_type": "stream",
          "name": "stdout",
          "text": [
            "Data has been written to merged_data.csv.\n"
          ]
        }
      ]
    },
    {
      "cell_type": "code",
      "source": [],
      "metadata": {
        "id": "uBrLJ7PcmU2x"
      },
      "execution_count": null,
      "outputs": []
    }
  ]
}